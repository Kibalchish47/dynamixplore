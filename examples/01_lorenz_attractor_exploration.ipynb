{
 "cells": [
  {
   "cell_type": "code",
   "execution_count": null,
   "id": "9314a72b",
   "metadata": {},
   "outputs": [],
   "source": [
    "# This is a demo script showing how to use the functions\n",
    "# directly from the compiled Rust core module.\n",
    "\n",
    "# We assume the compiled Rust library is available as `dx_core`\n",
    "import dx_core \n",
    "import numpy as np"
   ]
  },
  {
   "cell_type": "code",
   "execution_count": null,
   "id": "f0ec8622",
   "metadata": {},
   "outputs": [],
   "source": [
    "# 1. DEFINE the dynamical system (e.g., Lorenz Attractor)\n",
    "# The user provides a standard Python function.\n",
    "def lorenz_system(t, state):\n",
    "    # Parameters can be defined inside or passed as arguments\n",
    "    sigma = 10.0\n",
    "    rho = 28.0\n",
    "    beta = 8.0 / 3.0\n",
    "    \n",
    "    x, y, z = state\n",
    "    dx_dt = sigma * (y - x)\n",
    "    dy_dt = x * (rho - z) - y\n",
    "    dz_dt = x * y - beta * z\n",
    "    return np.array([dx_dt, dy_dt, dz_dt])"
   ]
  },
  {
   "cell_type": "code",
   "execution_count": null,
   "id": "f57454f7",
   "metadata": {},
   "outputs": [],
   "source": [
    "# 2. CONFIGURE and SIMULATE the system\n",
    "# We now call the Rust function directly.\n",
    "initial_state = np.array([1.0, 1.0, 1.0])\n",
    "t_start = 0.0\n",
    "t_end = 50.0\n",
    "h_initial = 0.01 # The adaptive solver will change this\n",
    "\n",
    "print(\"🚀 Running adaptive RK45 simulation...\")\n",
    "# --- Call the new adaptive solver directly ---\n",
    "# The function now takes tolerance arguments and returns a (trajectory, times) tuple.\n",
    "trajectory, times = dx_core.solve_rk45_adaptive(\n",
    "    lorenz_system,\n",
    "    initial_state,\n",
    "    t_start=t_start,\n",
    "    t_end=t_end,\n",
    "    h=h_initial,\n",
    "    abstol=1e-8,\n",
    "    reltol=1e-8\n",
    ")\n",
    "print(f\"✅ Simulation complete. Generated {trajectory.shape[0]} points.\")"
   ]
  },
  {
   "cell_type": "code",
   "execution_count": null,
   "id": "44172504",
   "metadata": {},
   "outputs": [],
   "source": [
    "# 3. ANALYZE the results\n",
    "# We call the analysis functions from our Rust core directly.\n",
    "\n",
    "# --- Call the new Lyapunov spectrum function ---\n",
    "print(\"🧠 Computing Lyapunov spectrum...\")\n",
    "# This function requires more parameters to control the calculation.\n",
    "# It returns the final spectrum and the history of its convergence.\n",
    "lyapunov_spectrum, lyapunov_history = dx_core.compute_lyapunov_spectrum(\n",
    "    lorenz_system,\n",
    "    initial_state,\n",
    "    t_transient=10.0,   # Time to let the system settle on the attractor\n",
    "    t_total=1000.0,     # Total time for the averaging process\n",
    "    t_reorth=1.0,       # Time between QR re-orthogonalizations\n",
    "    h_init=h_initial,\n",
    "    abstol=1e-8,\n",
    "    reltol=1e-8\n",
    ")\n",
    "print(f\"✅ Lyapunov spectrum computed: {np.round(lyapunov_spectrum, 4)}\")\n",
    "\n",
    "# --- CHANGE: Call the entropy and stats functions directly ---\n",
    "print(\"📊 Computing entropy and statistical measures...\")\n",
    "# We'll analyze the x-component of the trajectory\n",
    "x_series = trajectory[:, 0]\n",
    "\n",
    "# Permutation Entropy\n",
    "perm_entropy = dx_core.compute_permutation_entropy(x_series, m=3, tau=1)\n",
    "print(f\"✅ Permutation Entropy (m=3, tau=1): {perm_entropy:.4f}\")\n",
    "\n",
    "# Approximate Entropy\n",
    "approx_entropy = dx_core.compute_approximate_entropy(x_series, m=2, r=0.2 * np.std(x_series))\n",
    "print(f\"✅ Approximate Entropy (m=2, r=0.2*std): {approx_entropy:.4f}\")\n",
    "\n",
    "# Invariant Measure (2D Histogram of the x-z plane)\n",
    "invariant_measure_hist = dx_core.compute_invariant_measure(trajectory[:, [0, 2]], epsilon=0.5)\n",
    "print(f\"✅ Invariant measure computed. Found {len(invariant_measure_hist)} populated bins.\")\n",
    "\n",
    "# Estimate KS-Entropy from the positive Lyapunov exponents\n",
    "ks_entropy_est = np.sum([le for le in lyapunov_spectrum if le > 0])\n",
    "print(f\"📈 Estimated KS-Entropy from spectrum: {ks_entropy_est:.4f}\")"
   ]
  },
  {
   "cell_type": "code",
   "execution_count": null,
   "id": "8dc3d474",
   "metadata": {},
   "outputs": [],
   "source": [
    "# 4. VISUALIZE (Conceptual)\n",
    "# The visualization code would use the variables computed above.\n",
    "# For example:\n",
    "# fig1 = dx.visualize.plot_phase_portrait(trajectory, dims=['x', 'y', 'z'])\n",
    "# fig2 = dx.visualize.plot_lyapunov_convergence(lyapunov_history)\n",
    "# fig3 = dx.visualize.plot_invariant_measure(invariant_measure_hist) # This would need more work to plot\n",
    "# fig1.show()"
   ]
  }
 ],
 "metadata": {
  "language_info": {
   "name": "python"
  }
 },
 "nbformat": 4,
 "nbformat_minor": 5
}
